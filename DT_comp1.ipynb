{
 "cells": [
  {
   "cell_type": "code",
   "execution_count": 1,
   "id": "f455d716",
   "metadata": {},
   "outputs": [],
   "source": [
    "import numpy as np"
   ]
  },
  {
   "cell_type": "code",
   "execution_count": 2,
   "id": "2e1e4fc6",
   "metadata": {},
   "outputs": [
    {
     "data": {
      "text/plain": [
       "-0.0"
      ]
     },
     "execution_count": 2,
     "metadata": {},
     "output_type": "execute_result"
    }
   ],
   "source": [
    "(-10/10 * np.log2(10/10))"
   ]
  },
  {
   "cell_type": "code",
   "execution_count": 3,
   "id": "cbd9c201",
   "metadata": {},
   "outputs": [
    {
     "data": {
      "text/plain": [
       "1.0"
      ]
     },
     "execution_count": 3,
     "metadata": {},
     "output_type": "execute_result"
    }
   ],
   "source": [
    "(-5/10 * np.log2(5/10)) + (-5/10 * np.log2(5/10))"
   ]
  },
  {
   "cell_type": "markdown",
   "id": "fd4c373a",
   "metadata": {},
   "source": [
    "Entropy of left child"
   ]
  },
  {
   "cell_type": "code",
   "execution_count": 4,
   "id": "9df72a98",
   "metadata": {},
   "outputs": [
    {
     "data": {
      "text/plain": [
       "0.9182958340544896"
      ]
     },
     "execution_count": 4,
     "metadata": {},
     "output_type": "execute_result"
    }
   ],
   "source": [
    "(-2/6 * np.log2(2/6)) + (-4/6 * np.log2(4/6))"
   ]
  },
  {
   "cell_type": "markdown",
   "id": "1511f622",
   "metadata": {},
   "source": [
    "Entropy at the left child is: 0.9182958340544896"
   ]
  },
  {
   "cell_type": "markdown",
   "id": "a39ac7e8",
   "metadata": {},
   "source": [
    "Entropy at right child"
   ]
  },
  {
   "cell_type": "code",
   "execution_count": 5,
   "id": "fed8004c",
   "metadata": {},
   "outputs": [
    {
     "data": {
      "text/plain": [
       "0.8112781244591328"
      ]
     },
     "execution_count": 5,
     "metadata": {},
     "output_type": "execute_result"
    }
   ],
   "source": [
    "(-3/4 * np.log2(3/4)) + (-1/4 * np.log2(1/4))"
   ]
  },
  {
   "cell_type": "markdown",
   "id": "c546cc03",
   "metadata": {},
   "source": [
    "Getting the weifghted entropy"
   ]
  },
  {
   "cell_type": "code",
   "execution_count": 6,
   "id": "d6771909",
   "metadata": {},
   "outputs": [
    {
     "data": {
      "text/plain": [
       "0.5509775004326937"
      ]
     },
     "execution_count": 6,
     "metadata": {},
     "output_type": "execute_result"
    }
   ],
   "source": [
    "(6/10*0.9182958340544896)"
   ]
  },
  {
   "cell_type": "code",
   "execution_count": 7,
   "id": "61d5b6fb",
   "metadata": {},
   "outputs": [
    {
     "data": {
      "text/plain": [
       "0.32451124978365314"
      ]
     },
     "execution_count": 7,
     "metadata": {},
     "output_type": "execute_result"
    }
   ],
   "source": [
    "4/10*0.8112781244591328"
   ]
  },
  {
   "cell_type": "markdown",
   "id": "be1f089f",
   "metadata": {},
   "source": [
    "Sum of weighted entropy"
   ]
  },
  {
   "cell_type": "code",
   "execution_count": 8,
   "id": "dbb0e12c",
   "metadata": {},
   "outputs": [
    {
     "data": {
      "text/plain": [
       "0.8754887502163469"
      ]
     },
     "execution_count": 8,
     "metadata": {},
     "output_type": "execute_result"
    }
   ],
   "source": [
    "0.5509775004326937 +0.32451124978365314"
   ]
  },
  {
   "cell_type": "markdown",
   "id": "a96f5a34",
   "metadata": {},
   "source": [
    "The gain"
   ]
  },
  {
   "cell_type": "code",
   "execution_count": 9,
   "id": "d75c7d09",
   "metadata": {},
   "outputs": [
    {
     "data": {
      "text/plain": [
       "0.12451124978365313"
      ]
     },
     "execution_count": 9,
     "metadata": {},
     "output_type": "execute_result"
    }
   ],
   "source": [
    "1-0.8754887502163469"
   ]
  },
  {
   "cell_type": "markdown",
   "id": "00d938ea",
   "metadata": {},
   "source": [
    "therefore the information gain is: 0.12451124978365313"
   ]
  },
  {
   "cell_type": "code",
   "execution_count": 10,
   "id": "b528b7d6",
   "metadata": {},
   "outputs": [
    {
     "data": {
      "text/plain": [
       "1.0"
      ]
     },
     "execution_count": 10,
     "metadata": {},
     "output_type": "execute_result"
    }
   ],
   "source": [
    "(-2/4 * np.log2(2/4)) + (-2/4 * np.log2(2/4))"
   ]
  },
  {
   "cell_type": "markdown",
   "id": "d74db114",
   "metadata": {},
   "source": [
    "Entropy at the root is = 1.0"
   ]
  },
  {
   "cell_type": "code",
   "execution_count": 11,
   "id": "0b4f108e",
   "metadata": {},
   "outputs": [
    {
     "data": {
      "text/plain": [
       "0.9182958340544896"
      ]
     },
     "execution_count": 11,
     "metadata": {},
     "output_type": "execute_result"
    }
   ],
   "source": [
    "# left child\n",
    "(-2/3 * np.log2(2/3)) + (-1/3 * np.log2(1/3))"
   ]
  },
  {
   "cell_type": "markdown",
   "id": "75b91265",
   "metadata": {},
   "source": [
    "Entropy at the left child is: 0.9182958340544896"
   ]
  },
  {
   "cell_type": "code",
   "execution_count": 12,
   "id": "95a3eedc",
   "metadata": {},
   "outputs": [
    {
     "data": {
      "text/plain": [
       "-0.0"
      ]
     },
     "execution_count": 12,
     "metadata": {},
     "output_type": "execute_result"
    }
   ],
   "source": [
    "# right child\n",
    "(-1/1 * np.log2(1/1))"
   ]
  },
  {
   "cell_type": "code",
   "execution_count": 13,
   "id": "fc273371",
   "metadata": {},
   "outputs": [
    {
     "data": {
      "text/plain": [
       "0.6887218755408672"
      ]
     },
     "execution_count": 13,
     "metadata": {},
     "output_type": "execute_result"
    }
   ],
   "source": [
    "#weighted entropy  - left child\n",
    "(0.9182958340544896 * 3/4)"
   ]
  },
  {
   "cell_type": "code",
   "execution_count": 14,
   "id": "eb7b7353",
   "metadata": {},
   "outputs": [
    {
     "data": {
      "text/plain": [
       "0.0"
      ]
     },
     "execution_count": 14,
     "metadata": {},
     "output_type": "execute_result"
    }
   ],
   "source": [
    "#weighted entropy - right child\n",
    "(0* 1/4)"
   ]
  },
  {
   "cell_type": "code",
   "execution_count": 15,
   "id": "f4eacad6",
   "metadata": {},
   "outputs": [
    {
     "data": {
      "text/plain": [
       "0.6887218755408672"
      ]
     },
     "execution_count": 15,
     "metadata": {},
     "output_type": "execute_result"
    }
   ],
   "source": [
    "# sum of the weigted entropy =\n",
    "0.6887218755408672 + 0"
   ]
  },
  {
   "cell_type": "code",
   "execution_count": 16,
   "id": "1ee61ab7",
   "metadata": {},
   "outputs": [
    {
     "data": {
      "text/plain": [
       "0.31127812445913283"
      ]
     },
     "execution_count": 16,
     "metadata": {},
     "output_type": "execute_result"
    }
   ],
   "source": [
    "#information gain\n",
    "#root entropy - sum of th weighted entropy\n",
    "1 - 0.6887218755408672"
   ]
  },
  {
   "cell_type": "code",
   "execution_count": 17,
   "id": "1b97ce09",
   "metadata": {},
   "outputs": [
    {
     "data": {
      "text/plain": [
       "-0.0"
      ]
     },
     "execution_count": 17,
     "metadata": {},
     "output_type": "execute_result"
    }
   ],
   "source": [
    "#So the information gain of using x as the split = 0.31127812445913283\n",
    "# Next we calculate for Y\n",
    "# Root = 1.0\n",
    "#entropy at the left:\n",
    "(-2/2 * np.log2(2/2))"
   ]
  },
  {
   "cell_type": "code",
   "execution_count": 18,
   "id": "a7e40b32",
   "metadata": {},
   "outputs": [
    {
     "data": {
      "text/plain": [
       "-0.0"
      ]
     },
     "execution_count": 18,
     "metadata": {},
     "output_type": "execute_result"
    }
   ],
   "source": [
    "#entropy at the right child\n",
    "(-2/2 * np.log2(2/2))"
   ]
  },
  {
   "cell_type": "code",
   "execution_count": 19,
   "id": "e32ad16a",
   "metadata": {},
   "outputs": [
    {
     "data": {
      "text/plain": [
       "0.0"
      ]
     },
     "execution_count": 19,
     "metadata": {},
     "output_type": "execute_result"
    }
   ],
   "source": [
    "#sum of the weight entropy\n",
    "(0* 2/4) + (0*2/4)"
   ]
  },
  {
   "cell_type": "markdown",
   "id": "b7f1b92a",
   "metadata": {},
   "source": [
    "information gain = 1 - 0\n",
    " the the information gain is= 1"
   ]
  },
  {
   "cell_type": "code",
   "execution_count": 20,
   "id": "aa18ef27",
   "metadata": {},
   "outputs": [
    {
     "data": {
      "text/plain": [
       "1.0"
      ]
     },
     "execution_count": 20,
     "metadata": {},
     "output_type": "execute_result"
    }
   ],
   "source": [
    "# now using Z\n",
    "# at the root = 1\n",
    "# left child\n",
    "(-1/2 * np.log2(1/2)) + (-1/2 * np.log2(1/2))"
   ]
  },
  {
   "cell_type": "code",
   "execution_count": 21,
   "id": "2e3a5795",
   "metadata": {},
   "outputs": [
    {
     "data": {
      "text/plain": [
       "1.0"
      ]
     },
     "execution_count": 21,
     "metadata": {},
     "output_type": "execute_result"
    }
   ],
   "source": [
    "# right child\n",
    "(-1/2 * np.log2(1/2)) + (-1/2 * np.log2(1/2))"
   ]
  },
  {
   "cell_type": "code",
   "execution_count": 22,
   "id": "9b6ad564",
   "metadata": {},
   "outputs": [
    {
     "data": {
      "text/plain": [
       "1.0"
      ]
     },
     "execution_count": 22,
     "metadata": {},
     "output_type": "execute_result"
    }
   ],
   "source": [
    "#average and sum\n",
    "(2/4* 1) + (2/4*1)"
   ]
  },
  {
   "cell_type": "code",
   "execution_count": 23,
   "id": "8f04fdb2",
   "metadata": {},
   "outputs": [
    {
     "data": {
      "text/plain": [
       "0"
      ]
     },
     "execution_count": 23,
     "metadata": {},
     "output_type": "execute_result"
    }
   ],
   "source": [
    "#information gain\n",
    "1 - 1"
   ]
  },
  {
   "cell_type": "code",
   "execution_count": null,
   "id": "4ef567f5",
   "metadata": {},
   "outputs": [],
   "source": []
  }
 ],
 "metadata": {
  "kernelspec": {
   "display_name": "Python 3 (ipykernel)",
   "language": "python",
   "name": "python3"
  },
  "language_info": {
   "codemirror_mode": {
    "name": "ipython",
    "version": 3
   },
   "file_extension": ".py",
   "mimetype": "text/x-python",
   "name": "python",
   "nbconvert_exporter": "python",
   "pygments_lexer": "ipython3",
   "version": "3.11.5"
  }
 },
 "nbformat": 4,
 "nbformat_minor": 5
}
